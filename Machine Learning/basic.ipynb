{
 "cells": [
  {
   "cell_type": "code",
   "execution_count": 1,
   "id": "179444f4",
   "metadata": {},
   "outputs": [],
   "source": [
    "import pandas as pd\n",
    "from sklearn.metrics import classification_report\n",
    "from sklearn.tree import  DecisionTreeClassifier\n",
    "from sklearn.model_selection  import train_test_split"
   ]
  },
  {
   "cell_type": "code",
   "execution_count": null,
   "id": "005f47bc",
   "metadata": {},
   "outputs": [],
   "source": [
    "df=pd.read_csv('new_Cleaned_Credit.csv')"
   ]
  },
  {
   "cell_type": "code",
   "execution_count": null,
   "id": "571fb468",
   "metadata": {},
   "outputs": [],
   "source": [
    "x=df.drop('approval')"
   ]
  },
  {
   "cell_type": "code",
   "execution_count": null,
   "id": "b2e346ca",
   "metadata": {},
   "outputs": [],
   "source": [
    "x= df.drop('approval',axis=1)"
   ]
  },
  {
   "cell_type": "code",
   "execution_count": null,
   "id": "c09762e6",
   "metadata": {},
   "outputs": [],
   "source": [
    "dt.score(x_test,y_test)"
   ]
  },
  {
   "cell_type": "code",
   "execution_count": null,
   "id": "a1e6a2c4",
   "metadata": {},
   "outputs": [],
   "source": [
    "n"
   ]
  }
 ],
 "metadata": {
  "kernelspec": {
   "display_name": "Python 3",
   "language": "python",
   "name": "python3"
  },
  "language_info": {
   "codemirror_mode": {
    "name": "ipython",
    "version": 3
   },
   "file_extension": ".py",
   "mimetype": "text/x-python",
   "name": "python",
   "nbconvert_exporter": "python",
   "pygments_lexer": "ipython3",
   "version": "3.11.4"
  }
 },
 "nbformat": 4,
 "nbformat_minor": 5
}
