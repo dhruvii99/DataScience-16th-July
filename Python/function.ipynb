{
 "cells": [
  {
   "cell_type": "code",
   "execution_count": 9,
   "id": "32151fb4",
   "metadata": {},
   "outputs": [
    {
     "name": "stdout",
     "output_type": "stream",
     "text": [
      "30\n"
     ]
    }
   ],
   "source": [
    "def add():\n",
    "    a = 10\n",
    "    b = 20\n",
    "    sum = a + b\n",
    "    print(sum)\n",
    "\n",
    "add()\n"
   ]
  },
  {
   "cell_type": "code",
   "execution_count": 14,
   "id": "3f25d828",
   "metadata": {},
   "outputs": [
    {
     "name": "stdout",
     "output_type": "stream",
     "text": [
      "29 is a prime number.\n"
     ]
    }
   ],
   "source": [
    "#Function to check if number is prime or not\n",
    "def check_prime():\n",
    "    num = 29 \n",
    "    if num > 1:\n",
    "        for i in range(2, int(num/2) + 1):\n",
    "            if (num % i) == 0:\n",
    "                print(f\"{num} is not a prime number.\")\n",
    "                break\n",
    "        else:\n",
    "            print(f\"{num} is a prime number.\")\n",
    "    else:\n",
    "        print(f\"{num} is not a prime number.\")\n",
    "check_prime()\n"
   ]
  },
  {
   "cell_type": "code",
   "execution_count": 20,
   "id": "ad171cda",
   "metadata": {},
   "outputs": [
    {
     "name": "stdout",
     "output_type": "stream",
     "text": [
      "Reverse string is : ivurhd\n"
     ]
    }
   ],
   "source": [
    "#function to reverse a string\n",
    "\n",
    "def reverse_string():\n",
    "    a = \"dhruvi\"  \n",
    "    r_string = a[::-1]\n",
    "    print(f\"Reverse string is : {r_string}\")\n",
    "reverse_string()\n",
    "    "
   ]
  },
  {
   "cell_type": "code",
   "execution_count": null,
   "id": "c95e73aa",
   "metadata": {},
   "outputs": [
    {
     "name": "stdout",
     "output_type": "stream",
     "text": [
      "c is the greatest\n"
     ]
    }
   ],
   "source": [
    "#function to find maximum out of 3 numbers\n",
    "def max():\n",
    "    a=10\n",
    "    b=20\n",
    "    c=90\n",
    "    if a >= b and a>=c:\n",
    "        print(\"a is greater\")\n",
    "    elif b >= a and b >= c:\n",
    "        print(\"b is greater\")\n",
    "    else:\n",
    "        print(\"c is the greatest\")\n",
    "\n",
    "max()"
   ]
  },
  {
   "cell_type": "code",
   "execution_count": 27,
   "id": "4cb76f04",
   "metadata": {},
   "outputs": [
    {
     "name": "stdout",
     "output_type": "stream",
     "text": [
      "200\n"
     ]
    }
   ],
   "source": [
    "def add(a,b):\n",
    "    result=a*b\n",
    "    return result\n",
    "print(add(10,20))"
   ]
  },
  {
   "cell_type": "code",
   "execution_count": 31,
   "id": "a4c3b14c",
   "metadata": {},
   "outputs": [],
   "source": [
    "#object Orientied Programming\n",
    "#creating a class\n",
    "\n",
    "class student: #class is a keyword and student is class name \n",
    "    pass #placeholder keyword\n",
    "obj=student()"
   ]
  },
  {
   "cell_type": "code",
   "execution_count": 36,
   "id": "afade5bb",
   "metadata": {},
   "outputs": [
    {
     "name": "stdout",
     "output_type": "stream",
     "text": [
      "India\n"
     ]
    }
   ],
   "source": [
    "class Country:\n",
    "    country_name = \"India\"\n",
    "    capital = \"new delhi\"\n",
    "    language = \"hindi\"\n",
    "    religion = \"urdu\"\n",
    "\n",
    "# Create object *after* the class is defined:\n",
    "con = Country()\n",
    "print(con.country_name)\n"
   ]
  },
  {
   "cell_type": "code",
   "execution_count": 38,
   "id": "91d14389",
   "metadata": {},
   "outputs": [
    {
     "data": {
      "text/plain": [
       "'new delhi'"
      ]
     },
     "execution_count": 38,
     "metadata": {},
     "output_type": "execute_result"
    }
   ],
   "source": [
    "con.capital"
   ]
  },
  {
   "cell_type": "code",
   "execution_count": 39,
   "id": "fdd9ef4a",
   "metadata": {},
   "outputs": [
    {
     "data": {
      "text/plain": [
       "'urdu'"
      ]
     },
     "execution_count": 39,
     "metadata": {},
     "output_type": "execute_result"
    }
   ],
   "source": [
    "con.religion"
   ]
  },
  {
   "cell_type": "code",
   "execution_count": null,
   "id": "8fc042dd",
   "metadata": {},
   "outputs": [],
   "source": [
    "#talking about Method\n",
    "class Country:\n",
    "    country_name=\"India\"\n",
    "    def display(self):\n",
    "        pass\n",
    "    con=Country()\n",
    "    #class ke andr function define - method\n",
    "    #class k bar \n",
    "    #self : class ke properties ko method ke andr access krna hai \n",
    "    "
   ]
  },
  {
   "cell_type": "code",
   "execution_count": 44,
   "id": "c081759e",
   "metadata": {},
   "outputs": [],
   "source": [
    "class Country:\n",
    "    country_name=\"India\"\n",
    "    capital = \"new delhi\"\n",
    "    language = \"hindi\"\n",
    "    religion = \"urdu\"\n",
    "    def display(self):\n",
    "        print(self.country_name)\n",
    "        print(self.capital)\n",
    "    con=Country()"
   ]
  },
  {
   "cell_type": "code",
   "execution_count": 46,
   "id": "6648efff",
   "metadata": {},
   "outputs": [],
   "source": [
    "#single\n",
    "class Father:\n",
    "    pass\n",
    "class Child(Father):\n",
    "  pass"
   ]
  },
  {
   "cell_type": "code",
   "execution_count": 53,
   "id": "9ae927a5",
   "metadata": {},
   "outputs": [
    {
     "name": "stdout",
     "output_type": "stream",
     "text": [
      "Ayush\n"
     ]
    }
   ],
   "source": [
    "#single inheritance\n",
    "class Father:\n",
    "    Father_name = \"Ayush\"\n",
    "    Father_age = 22\n",
    "\n",
    "class Child(Father):\n",
    "    child_name = \"Ritvika\"\n",
    "    child_age = 10\n",
    "\n",
    "Child_instance = Child()\n",
    "print(Child_instance.Father_name)\n"
   ]
  },
  {
   "cell_type": "code",
   "execution_count": null,
   "id": "fcd8e6db",
   "metadata": {},
   "outputs": [],
   "source": [
    "#mutilevel  inheritance\n",
    "class Grandfather:\n",
    "     pass\n",
    "class Father(Grandfather):\n",
    "        pass\n",
    "class Child(Father):\n",
    "        pass"
   ]
  },
  {
   "cell_type": "code",
   "execution_count": 1,
   "id": "a9d612f2",
   "metadata": {},
   "outputs": [
    {
     "name": "stdout",
     "output_type": "stream",
     "text": [
      "ram lal\n",
      "ram lal\n",
      "situ lal\n",
      "chiku\n"
     ]
    }
   ],
   "source": [
    "#HEHEHE\n",
    "class Grandfather:\n",
    "    grandfather_name=\"ram lal\"\n",
    "    randfather_age=40\n",
    "class Father(Grandfather):\n",
    "    father_name=\"situ lal\"\n",
    "    father_age=88\n",
    "class Child (Father):\n",
    "    child_name=\"chiku\"\n",
    "    child_age=20\n",
    " \n",
    "Child=Child()\n",
    "print(Child.grandfather_name)\n",
    "print(Child.grandfather_name)\n",
    "print(Child.father_name)\n",
    "print(Child.child_name)\n"
   ]
  },
  {
   "cell_type": "code",
   "execution_count": 2,
   "id": "4bd7e3fb",
   "metadata": {},
   "outputs": [
    {
     "name": "stdout",
     "output_type": "stream",
     "text": [
      "ram lal\n",
      "ram lal\n",
      "situ lal\n",
      "chiku\n"
     ]
    }
   ],
   "source": [
    "#Mutiple inheritance\n",
    "class Grandfather:\n",
    "    grandfather_name=\"ram lal\"\n",
    "    randfather_age=40\n",
    "class Father(Grandfather):\n",
    "    father_name=\"situ lal\"\n",
    "    father_age=88\n",
    "class Child (Father):\n",
    "    child_name=\"chiku\"\n",
    "    child_age=20\n",
    " \n",
    "Child=Child()\n",
    "print(Child.grandfather_name)\n",
    "print(Child.grandfather_name)\n",
    "print(Child.father_name)\n",
    "print(Child.child_name)"
   ]
  },
  {
   "cell_type": "code",
   "execution_count": 3,
   "id": "fa2f1db0",
   "metadata": {},
   "outputs": [
    {
     "name": "stdout",
     "output_type": "stream",
     "text": [
      "ram lal\n",
      "ram lal\n",
      "situ lal\n",
      "chiku\n"
     ]
    }
   ],
   "source": [
    "class Grandfather:\n",
    "    grandfather_name=\"ram lal\"\n",
    "    randfather_age=40\n",
    "class Father(Grandfather):\n",
    "    father_name=\"situ lal\"\n",
    "    father_age=88\n",
    "class Child (Father):\n",
    "    child_name=\"chiku\"\n",
    "    child_age=20\n",
    " \n",
    "Child=Child()\n",
    "print(Child.grandfather_name)\n",
    "print(Child.grandfather_name)\n",
    "print(Child.father_name)\n",
    "print(Child.child_name)"
   ]
  },
  {
   "cell_type": "code",
   "execution_count": 5,
   "id": "c0e878da",
   "metadata": {},
   "outputs": [],
   "source": [
    "#mutiple inheritance final\n",
    "# one class and mutiple parents\n",
    "\n",
    "class Grandfather:\n",
    "    pass\n",
    "class Father:\n",
    "    pass\n",
    "class Child(Grandfather,Father):\n",
    "    pass\n",
    "obj=Child()\n",
    "obj.grandfather_name=\"ram lal\""
   ]
  },
  {
   "cell_type": "code",
   "execution_count": null,
   "id": "946620fe",
   "metadata": {},
   "outputs": [],
   "source": [
    "#hireachicral inheritance \n",
    "# 1 parent , multiple children"
   ]
  },
  {
   "cell_type": "code",
   "execution_count": 47,
   "id": "e3757ef9",
   "metadata": {},
   "outputs": [
    {
     "name": "stdout",
     "output_type": "stream",
     "text": [
      "parent\n",
      " Child \n"
     ]
    }
   ],
   "source": [
    "#Task(HW) ---> super ()method check\n",
    "#USE CODE\n",
    "#super ka use karke parent class ke methods ya constructor ko call kar sakte ho.\n",
    "\n",
    "class Parent:\n",
    "    def show(self):\n",
    "        print(\"parent\")\n",
    "\n",
    "class Child(Parent):\n",
    "    def show(self):\n",
    "        super().show() \n",
    "        print(\" Child \")\n",
    "\n",
    "obj = Child()\n",
    "obj.show()\n"
   ]
  },
  {
   "cell_type": "code",
   "execution_count": 6,
   "id": "69537166",
   "metadata": {},
   "outputs": [],
   "source": [
    "#Encapsulation -:\n",
    "#Keywords used-: Hide data , infomation save by using private , protected \n",
    "\n",
    "class College:\n",
    "    college_name=\"GWECA\"\n",
    "    college_address=\"jaipur\"\n",
    "    _acount_no=1234\n",
    "    __password=\"123\"\n",
    "\n",
    "clg = College()"
   ]
  },
  {
   "cell_type": "code",
   "execution_count": null,
   "id": "466344ee",
   "metadata": {},
   "outputs": [],
   "source": []
  },
  {
   "cell_type": "code",
   "execution_count": 7,
   "id": "e435754a",
   "metadata": {},
   "outputs": [
    {
     "data": {
      "text/plain": [
       "'jaipur'"
      ]
     },
     "execution_count": 7,
     "metadata": {},
     "output_type": "execute_result"
    }
   ],
   "source": [
    "clg.college_address"
   ]
  },
  {
   "cell_type": "code",
   "execution_count": 8,
   "id": "b6786278",
   "metadata": {},
   "outputs": [
    {
     "data": {
      "text/plain": [
       "'GWECA'"
      ]
     },
     "execution_count": 8,
     "metadata": {},
     "output_type": "execute_result"
    }
   ],
   "source": [
    "clg.college_name"
   ]
  },
  {
   "cell_type": "code",
   "execution_count": 16,
   "id": "023472df",
   "metadata": {},
   "outputs": [
    {
     "data": {
      "text/plain": [
       "'123'"
      ]
     },
     "execution_count": 16,
     "metadata": {},
     "output_type": "execute_result"
    }
   ],
   "source": [
    "\n",
    "#College._College__password  # ✅ This works!\n",
    "clg._College__password\n"
   ]
  },
  {
   "cell_type": "code",
   "execution_count": null,
   "id": "ae25e8c9",
   "metadata": {},
   "outputs": [],
   "source": [
    "#polymorphism -> Many forms\n",
    "#single f can behave differently , like father (has many forms)\n"
   ]
  },
  {
   "cell_type": "code",
   "execution_count": null,
   "id": "b9025930",
   "metadata": {},
   "outputs": [
    {
     "name": "stdout",
     "output_type": "stream",
     "text": [
      "\n"
     ]
    }
   ],
   "source": [
    "#abstraction\n",
    "\n",
    "print()"
   ]
  },
  {
   "cell_type": "code",
   "execution_count": null,
   "id": "9973bfe0",
   "metadata": {},
   "outputs": [],
   "source": [
    "#polymorphism CODE"
   ]
  },
  {
   "cell_type": "code",
   "execution_count": 26,
   "id": "59388b2b",
   "metadata": {},
   "outputs": [],
   "source": [
    "#CONCEPT\n",
    "#FILE HANDLING\n",
    "#Constructor-:  code resuseable , \n",
    "#How to create constructor \n",
    "\n",
    "#class ClassName:\n",
    "    #def __init__(self, parameters):\n",
    "    # code to initialize object\n",
    "\n",
    "class Country:\n",
    "    def __init__(self):\n",
    "        pass\n",
    "\n",
    "person = Country()   # ✔️ Create object OUTSIDE\n",
    "\n",
    "\n"
   ]
  },
  {
   "cell_type": "code",
   "execution_count": 28,
   "id": "0c6361d6",
   "metadata": {},
   "outputs": [],
   "source": [
    "class Collage:\n",
    "    def __init__(self):\n",
    "        self.college_name=\"GWECA COLA\"\n",
    "        self.college_add=\"Jaipur rajasthan\"\n",
    "        self.password=\"Jdifhfenf@\"\n",
    "        self.city=\"AJMER\"\n",
    "\n",
    "\n",
    "\n",
    "person= Collage()    "
   ]
  },
  {
   "cell_type": "code",
   "execution_count": 29,
   "id": "e3d9fa8e",
   "metadata": {},
   "outputs": [
    {
     "data": {
      "text/plain": [
       "'Jaipur rajasthan'"
      ]
     },
     "execution_count": 29,
     "metadata": {},
     "output_type": "execute_result"
    }
   ],
   "source": [
    "person.college_add"
   ]
  },
  {
   "cell_type": "code",
   "execution_count": 30,
   "id": "f45ddd46",
   "metadata": {},
   "outputs": [
    {
     "data": {
      "text/plain": [
       "'GWECA COLA'"
      ]
     },
     "execution_count": 30,
     "metadata": {},
     "output_type": "execute_result"
    }
   ],
   "source": [
    "person.college_name"
   ]
  },
  {
   "cell_type": "code",
   "execution_count": 31,
   "id": "363d9fee",
   "metadata": {},
   "outputs": [
    {
     "data": {
      "text/plain": [
       "'Jdifhfenf@'"
      ]
     },
     "execution_count": 31,
     "metadata": {},
     "output_type": "execute_result"
    }
   ],
   "source": [
    "person.password"
   ]
  },
  {
   "cell_type": "code",
   "execution_count": 41,
   "id": "0fa35514",
   "metadata": {},
   "outputs": [
    {
     "name": "stdout",
     "output_type": "stream",
     "text": [
      "GWECA COLA\n",
      "Noida\n",
      "DJEJD\n",
      "HASANPURI\n"
     ]
    }
   ],
   "source": [
    "class Collage:\n",
    "    def __init__(self, college_name, college_add, password, city):\n",
    "        self.college_name = college_name\n",
    "        self.college_add = college_add\n",
    "        self.password = password\n",
    "        self.city = city\n",
    "\n",
    "    \n",
    "    def display(self):\n",
    "        print(self.college_name)\n",
    "        print(self.college_add)\n",
    "\n",
    "    def show(self):\n",
    "        print(self.password)\n",
    "        print(self.city)\n",
    "person = Collage(\"GWECA COLA\", \"Noida\", \"DJEJD\", \"HASANPURI\")\n",
    "person.display() \n",
    "person.show()\n",
    "\n"
   ]
  },
  {
   "cell_type": "code",
   "execution_count": 33,
   "id": "ab46e2be",
   "metadata": {},
   "outputs": [
    {
     "data": {
      "text/plain": [
       "'Noida'"
      ]
     },
     "execution_count": 33,
     "metadata": {},
     "output_type": "execute_result"
    }
   ],
   "source": [
    "person.college_add"
   ]
  },
  {
   "cell_type": "code",
   "execution_count": 34,
   "id": "3b7d0353",
   "metadata": {},
   "outputs": [
    {
     "data": {
      "text/plain": [
       "'GWECA COLA'"
      ]
     },
     "execution_count": 34,
     "metadata": {},
     "output_type": "execute_result"
    }
   ],
   "source": [
    "person.college_name"
   ]
  },
  {
   "cell_type": "code",
   "execution_count": 43,
   "id": "4ec6a449",
   "metadata": {},
   "outputs": [],
   "source": [
    "class Collage:\n",
    "    def __init__(self, college_name, college_add, password, city):\n",
    "        self.college_name = college_name\n",
    "        self.college_add = college_add\n",
    "        self.password = password\n",
    "        self.city = city\n",
    "\n",
    "    \n",
    "    def display(self):\n",
    "       pass\n",
    "\n",
    "    \n",
    "person = Collage(\"GWECA COLA\", \"Noida\", \"DJEJD\", \"HASANPURI\")\n",
    "person.display() \n"
   ]
  },
  {
   "cell_type": "code",
   "execution_count": 45,
   "id": "520096fd",
   "metadata": {},
   "outputs": [
    {
     "name": "stdout",
     "output_type": "stream",
     "text": [
      "DJEJD\n"
     ]
    }
   ],
   "source": [
    "print(person.password)"
   ]
  },
  {
   "cell_type": "code",
   "execution_count": null,
   "id": "e927142e",
   "metadata": {},
   "outputs": [],
   "source": [
    "#TASK -> class banani hai and uske andr  ke andr inheritance , ploly , encapsulation , method also different diff , constructor ka use krna hai \n",
    "\n",
    "class Animal:\n",
    "    #Encapsulation performed in this\n",
    "    def __init__(self, name):\n",
    "        self.__name = name \n",
    "\n",
    "    #method\n",
    "    def"
   ]
  },
  {
   "cell_type": "code",
   "execution_count": null,
   "id": "d0839792",
   "metadata": {},
   "outputs": [],
   "source": [
    "#FILE handling - files ko open karna, close karna , read karna , open karna\n",
    "#open(), read(), write(), close()\n",
    "file=open('demo.txt','r')\n"
   ]
  },
  {
   "cell_type": "code",
   "execution_count": 49,
   "id": "4133a7e5",
   "metadata": {},
   "outputs": [
    {
     "data": {
      "text/plain": [
       "'Hello '"
      ]
     },
     "execution_count": 49,
     "metadata": {},
     "output_type": "execute_result"
    }
   ],
   "source": [
    "file.read()"
   ]
  },
  {
   "cell_type": "code",
   "execution_count": 50,
   "id": "a1ae5fde",
   "metadata": {},
   "outputs": [],
   "source": [
    "file.close()"
   ]
  },
  {
   "cell_type": "code",
   "execution_count": 51,
   "id": "afcc3607",
   "metadata": {},
   "outputs": [],
   "source": [
    "file=open('demo.txt','r')"
   ]
  },
  {
   "cell_type": "code",
   "execution_count": 52,
   "id": "b9dd1752",
   "metadata": {},
   "outputs": [
    {
     "data": {
      "text/plain": [
       "['Hello ']"
      ]
     },
     "execution_count": 52,
     "metadata": {},
     "output_type": "execute_result"
    }
   ],
   "source": [
    "file.readlines()"
   ]
  },
  {
   "cell_type": "code",
   "execution_count": 54,
   "id": "a5a52faf",
   "metadata": {},
   "outputs": [],
   "source": [
    "#write mode\n",
    "file=open('demo.txt','w')\n",
    "file.write(\"HEy today i came late so late godamnnn\")\n",
    "file.close()\n"
   ]
  },
  {
   "cell_type": "code",
   "execution_count": 55,
   "id": "c5401ab7",
   "metadata": {},
   "outputs": [
    {
     "data": {
      "text/plain": [
       "'HEy today i came late so late godamnnn'"
      ]
     },
     "execution_count": 55,
     "metadata": {},
     "output_type": "execute_result"
    }
   ],
   "source": [
    "file=open('demo.txt','r')\n",
    "file.read()"
   ]
  },
  {
   "cell_type": "code",
   "execution_count": 56,
   "id": "20f23f9b",
   "metadata": {},
   "outputs": [],
   "source": [
    "file.close()"
   ]
  },
  {
   "cell_type": "code",
   "execution_count": null,
   "id": "19f8003d",
   "metadata": {},
   "outputs": [],
   "source": [
    "#append mode \n",
    "file=open('demo.txt','a')\n",
    "file.wr\n"
   ]
  },
  {
   "cell_type": "code",
   "execution_count": 57,
   "id": "14831c03",
   "metadata": {},
   "outputs": [],
   "source": [
    "#append mode - new file create ho jayegi agr pehle wali exist nhikrti ya jo search kiya hai\n",
    "file=open('text.txt','a')\n",
    "file.write(\"coongo! you created a new file\")\n",
    "file.close()"
   ]
  },
  {
   "cell_type": "code",
   "execution_count": 59,
   "id": "0f2120ca",
   "metadata": {},
   "outputs": [],
   "source": [
    "#create mode----: agr file exist krti h , toh error show kardega , jo file call kar rhe ho vo file exist ni krni chaiyee\n",
    "file=open('upflairs.txt','w')\n"
   ]
  },
  {
   "cell_type": "code",
   "execution_count": null,
   "id": "2a62fb9e",
   "metadata": {},
   "outputs": [],
   "source": [
    "#with ka use karke , file apne aap close hojati hai!!!! LOL\n",
    "#FUNN FUNNN DAYYYYYYYYYYYYYYYYYYYYYYYYYYYYYYYYYYYYYYYYYYYYY\n"
   ]
  },
  {
   "cell_type": "code",
   "execution_count": null,
   "id": "719eebc0",
   "metadata": {},
   "outputs": [
    {
     "ename": "NameError",
     "evalue": "name 'r' is not defined",
     "output_type": "error",
     "traceback": [
      "\u001b[31m---------------------------------------------------------------------------\u001b[39m",
      "\u001b[31mNameError\u001b[39m                                 Traceback (most recent call last)",
      "\u001b[36mCell\u001b[39m\u001b[36m \u001b[39m\u001b[32mIn[63]\u001b[39m\u001b[32m, line 14\u001b[39m\n\u001b[32m     11\u001b[39m f.close()\n\u001b[32m     13\u001b[39m \u001b[38;5;66;03m#read mode\u001b[39;00m\n\u001b[32m---> \u001b[39m\u001b[32m14\u001b[39m f=\u001b[38;5;28mopen\u001b[39m(\u001b[33m'\u001b[39m\u001b[33mtext.txt\u001b[39m\u001b[33m'\u001b[39m,\u001b[43mr\u001b[49m)\n\u001b[32m     15\u001b[39m f.write(\u001b[33m\"\u001b[39m\u001b[33mCONGO BABE\u001b[39m\u001b[33m\"\u001b[39m)\n\u001b[32m     16\u001b[39m f.close()\n",
      "\u001b[31mNameError\u001b[39m: name 'r' is not defined"
     ]
    }
   ],
   "source": [
    "#file handling in python -: is use to handle file read , write , open\n",
    "\n",
    "#open file\n",
    "f=open('upflairs.txt','w')\n",
    "f.write(\"Hey i write the file\")\n",
    "f.close()\n",
    "\n",
    "#append mode\n",
    "f=open('text.txt','a')\n",
    "f.write(\"HI hie congo babe\")\n",
    "f.close()\n",
    "\n",
    "#read mode\n",
    "f=open('text.txt',r)\n",
    "f.write(\"CONGO BABE\")\n",
    "f.close()"
   ]
  },
  {
   "cell_type": "code",
   "execution_count": null,
   "id": "4e99ac09",
   "metadata": {},
   "outputs": [],
   "source": [
    "#exception handling -: code mai runtime error ko handle ke liye errors ko handle karna\n",
    "#try , passs\n",
    "\n"
   ]
  },
  {
   "cell_type": "code",
   "execution_count": null,
   "id": "e5552178",
   "metadata": {},
   "outputs": [],
   "source": [
    "try: #MAIN CODE\n",
    "    pass\n",
    "except:\n",
    "    pass\n",
    "else:\n",
    "    pass\n",
    "finally:\n",
    "    pass\n"
   ]
  },
  {
   "cell_type": "code",
   "execution_count": null,
   "id": "a961e20b",
   "metadata": {},
   "outputs": [],
   "source": []
  },
  {
   "cell_type": "code",
   "execution_count": 66,
   "id": "59ab0abd",
   "metadata": {},
   "outputs": [
    {
     "name": "stdout",
     "output_type": "stream",
     "text": [
      "2.0\n"
     ]
    }
   ],
   "source": [
    "try:\n",
    "    a=int(input(\"enter a no\"))\n",
    "    b=int(input(\"enter a no\"))\n",
    "    print(a/b)\n",
    "except Exception as e:\n",
    "    print(\"error is\",e)\n",
    "    print(\"Please enter valid input\")"
   ]
  },
  {
   "cell_type": "code",
   "execution_count": null,
   "id": "c19b3545",
   "metadata": {},
   "outputs": [],
   "source": [
    "try:\n",
    "    a=int(input(\"enter a no\"))\n",
    "    b=int(input(\"enter a no\"))\n",
    "    print(a/b)\n",
    "except Exception as e:\n",
    "    print(\"error is\",e)\n",
    "    print(\"Please enter valid input\")"
   ]
  },
  {
   "cell_type": "code",
   "execution_count": 69,
   "id": "58ac21a8",
   "metadata": {},
   "outputs": [
    {
     "name": "stdout",
     "output_type": "stream",
     "text": [
      "Error is-  unsupported operand type(s) for /: 'int' and 'str'\n",
      "KIndly enter valid input\n",
      "This is finally error bhai\n"
     ]
    }
   ],
   "source": [
    "try:\n",
    "    a=int(input(\"Enter a number brother\"))\n",
    "    b=(input(\"Enter a number brother\"))\n",
    "    print(a/b)\n",
    "except Exception as e:\n",
    "    print(\"Error is- \",e)\n",
    "    print(\"KIndly enter valid input\")\n",
    "else:\n",
    "    print(\"no error hahahah \")\n",
    "finally:\n",
    "    print(\"This is finally error bhai\")\n"
   ]
  },
  {
   "cell_type": "code",
   "execution_count": 67,
   "id": "05bf98f5",
   "metadata": {},
   "outputs": [
    {
     "name": "stdout",
     "output_type": "stream",
     "text": [
      "NOT DIVISIBLE\n"
     ]
    }
   ],
   "source": [
    "#zero division error\n",
    "try:\n",
    "    x=10/0\n",
    "except ZeroDivisionError:\n",
    "    print(\"NOT DIVISIBLE\")\n"
   ]
  }
 ],
 "metadata": {
  "kernelspec": {
   "display_name": "Python 3",
   "language": "python",
   "name": "python3"
  },
  "language_info": {
   "codemirror_mode": {
    "name": "ipython",
    "version": 3
   },
   "file_extension": ".py",
   "mimetype": "text/x-python",
   "name": "python",
   "nbconvert_exporter": "python",
   "pygments_lexer": "ipython3",
   "version": "3.11.4"
  }
 },
 "nbformat": 4,
 "nbformat_minor": 5
}
