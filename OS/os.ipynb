{
 "cells": [
  {
   "cell_type": "code",
   "execution_count": 1,
   "id": "9ae84778",
   "metadata": {},
   "outputs": [],
   "source": [
    "import os"
   ]
  },
  {
   "cell_type": "code",
   "execution_count": 4,
   "id": "1b2269da",
   "metadata": {},
   "outputs": [
    {
     "data": {
      "text/plain": [
       "'c:\\\\Users\\\\User\\\\Desktop\\\\DataSciene-16th July\\\\OS'"
      ]
     },
     "execution_count": 4,
     "metadata": {},
     "output_type": "execute_result"
    }
   ],
   "source": [
    "#to find current path \n",
    "os.getcwd()"
   ]
  },
  {
   "cell_type": "code",
   "execution_count": 5,
   "id": "ddee52f8",
   "metadata": {},
   "outputs": [
    {
     "data": {
      "text/plain": [
       "['os.ipynb']"
      ]
     },
     "execution_count": 5,
     "metadata": {},
     "output_type": "execute_result"
    }
   ],
   "source": [
    "os.listdir('c:\\\\Users\\\\User\\\\Desktop\\\\DataSciene-16th July\\\\OS')"
   ]
  },
  {
   "cell_type": "code",
   "execution_count": 6,
   "id": "c3fcc83c",
   "metadata": {},
   "outputs": [],
   "source": [
    "#to create folder\n",
    "os.mkdir('text')"
   ]
  },
  {
   "cell_type": "code",
   "execution_count": 7,
   "id": "ba73149d",
   "metadata": {},
   "outputs": [],
   "source": [
    "os.rmdir('text')"
   ]
  },
  {
   "cell_type": "code",
   "execution_count": null,
   "id": "fa175cb8",
   "metadata": {},
   "outputs": [],
   "source": [
    "#to check environment\n",
    "path=r\"'\\\\DataSciene-16th July\\\\Oc:\\\\Users\\\\User\\\\DesktopS'\"\n",
    "env= os.environ.get(path)"
   ]
  },
  {
   "cell_type": "code",
   "execution_count": 10,
   "id": "1075d775",
   "metadata": {},
   "outputs": [],
   "source": [
    "env"
   ]
  },
  {
   "cell_type": "code",
   "execution_count": 11,
   "id": "c25f2d45",
   "metadata": {},
   "outputs": [
    {
     "data": {
      "text/plain": [
       "1"
      ]
     },
     "execution_count": 11,
     "metadata": {},
     "output_type": "execute_result"
    }
   ],
   "source": [
    "#system commmand \n",
    "os.system(path)"
   ]
  },
  {
   "cell_type": "code",
   "execution_count": null,
   "id": "3246c6b4",
   "metadata": {},
   "outputs": [],
   "source": [
    "#to remove file in python \n"
   ]
  },
  {
   "cell_type": "code",
   "execution_count": null,
   "id": "7644c2c5",
   "metadata": {},
   "outputs": [
    {
     "data": {
      "text/plain": [
       "False"
      ]
     },
     "execution_count": 12,
     "metadata": {},
     "output_type": "execute_result"
    }
   ],
   "source": [
    "#to check file exist or not\n",
    "os.path.isdir(path)"
   ]
  },
  {
   "cell_type": "code",
   "execution_count": null,
   "id": "b6f895a2",
   "metadata": {},
   "outputs": [],
   "source": [
    "#to check existence of path or Not\n",
    "os."
   ]
  },
  {
   "cell_type": "code",
   "execution_count": 15,
   "id": "d5d19468",
   "metadata": {},
   "outputs": [
    {
     "name": "stdout",
     "output_type": "stream",
     "text": [
      "c:\\Users\\User\\dhruv\n"
     ]
    }
   ],
   "source": [
    "#to join two path\n",
    "path1='c:\\\\Users\\\\User\\\\Desktop'\n",
    "path2='c:\\\\Users\\\\User\\\\dhruv'\n",
    "path3=os.path.join(path1,path2)\n",
    "print(path3)\n"
   ]
  },
  {
   "cell_type": "code",
   "execution_count": null,
   "id": "24c0dae6",
   "metadata": {},
   "outputs": [],
   "source": [
    "#to check size\n",
    "os.listdir(path3)"
   ]
  },
  {
   "cell_type": "code",
   "execution_count": 24,
   "id": "57a83a52",
   "metadata": {},
   "outputs": [
    {
     "data": {
      "text/plain": [
       "4806"
      ]
     },
     "execution_count": 24,
     "metadata": {},
     "output_type": "execute_result"
    }
   ],
   "source": [
    "#now to get the size of the fcking pathhhhhhhhhhhhhhhhhhhhh\n",
    "os.path.getsize(r'c:\\\\Users\\\\User\\\\Desktop\\\\DataSciene-16th July\\\\OS\\os.ipynb')"
   ]
  },
  {
   "cell_type": "code",
   "execution_count": 21,
   "id": "f8550fc4",
   "metadata": {},
   "outputs": [
    {
     "name": "stdout",
     "output_type": "stream",
     "text": [
      "4692\n"
     ]
    }
   ],
   "source": [
    "import os\n",
    "\n",
    "print(sum(os.path.getsize(os.path.join(dp, f)) for dp, dn, filenames in os.walk(r\"C:\\Users\\User\\Desktop\\DataSciene-16th July\\OS\") for f in filenames))\n"
   ]
  }
 ],
 "metadata": {
  "kernelspec": {
   "display_name": "Python 3",
   "language": "python",
   "name": "python3"
  },
  "language_info": {
   "codemirror_mode": {
    "name": "ipython",
    "version": 3
   },
   "file_extension": ".py",
   "mimetype": "text/x-python",
   "name": "python",
   "nbconvert_exporter": "python",
   "pygments_lexer": "ipython3",
   "version": "3.11.4"
  }
 },
 "nbformat": 4,
 "nbformat_minor": 5
}
